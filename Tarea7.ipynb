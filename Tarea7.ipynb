{
 "cells": [
  {
   "cell_type": "markdown",
   "metadata": {},
   "source": [
    "<img style=\"float: left; margin: 30px 15px 15px 15px;\" src=\"https://pngimage.net/wp-content/uploads/2018/06/logo-iteso-png-5.png\" width=\"300\" height=\"500\" /> \n",
    "    \n",
    "    \n",
    "### <font color='navy'> Simulación de procesos financieros. \n",
    "\n",
    "**Nombres:** Héctor Daniel Chávez Orozco y Lyha Espinosa García.\n",
    "\n",
    "**Fecha:** 08 de marzo del 2021\n",
    "\n",
    "**Expedientes** : 713442 y \n",
    "**Profesor:** Oscar David Jaramillo Zuluaga.\n",
    "\n",
    "# Tarea 7: Clase 13\n",
    "**Link al repositorio en Github**: https://github.com/danielch4/Tarea7-8_LEspinoza_HDChavez"
   ]
  },
  {
   "attachments": {
    "Captura.PNG": {
     "image/png": "[encoded data removed]"
    }
   },
   "cell_type": "markdown",
   "metadata": {},
   "source": [
    "\n",
    "Aproxime el valor de la siguiente integral usando el método monte carlo crudo y método de reducción de varianza de muestreo estratíficado\n",
    "\n",
    "$$I=\\int_{0}^{1}x^2\\text{d}x=\\left.\\frac{x^3}{3}\\right|_{x=0}^{x=1}=\\frac{1}{3}\\approx 0.33333$$\n",
    "\n",
    "Pasos\n",
    "1. Cree una función que realice el método de muestreo estratíficado, recibiendo como único parámetro de entrada la cantidad de estratos y retornando las variables estratíficadas correspondientes.\n",
    "2. Reporte los resultados de la aproximación de la integral usando montecarlo crudo y muestreo estratíficado, en un Dataframe con la información mostrada en la siguiente imagen:\n",
    "![Captura.PNG](attachment:Captura.PNG)"
   ]
  },
  {
   "cell_type": "markdown",
   "metadata": {},
   "source": [
    "# Solución Lyha"
   ]
  },
  {
   "cell_type": "code",
   "execution_count": 1,
   "metadata": {},
   "outputs": [],
   "source": [
    "import numpy as np\n",
    "import matplotlib.pyplot as plt\n",
    "import pandas as pd\n",
    "\n",
    "I = 1/3\n",
    "# intervalo de integración\n",
    "a = 0\n",
    "b = 1\n",
    "N = np.logspace(1,7,7,dtype=int)  # Cantidad de términos, escalalogaritmica"
   ]
  },
  {
   "cell_type": "code",
   "execution_count": 2,
   "metadata": {},
   "outputs": [],
   "source": [
    "# Dataframe\n",
    "resultados = pd.DataFrame(index = N, columns=['Montecarlo crudo', 'Error_relativo1%', \n",
    "                                              'Muestreo estratificado', 'Error_relativo2%'], dtype='float')\n",
    "resultados.index.name = 'Cantidad_terminos'"
   ]
  },
  {
   "cell_type": "code",
   "execution_count": 3,
   "metadata": {},
   "outputs": [],
   "source": [
    "# MONTECARLO CRUDO\n",
    "# Integración montecarlo\n",
    "def int_montecarlo(f:'Función a integrar',\n",
    "                   a:'Límite inferior de la integral',\n",
    "                   b:'Límite superior de la integral',\n",
    "                   U:'Muestra de números U~[a,b]'):\n",
    "    return (b-a)/len(U)*np.sum(f(U))\n",
    "\n",
    "# Números aleatorios dependiendo de la cantidad de N\n",
    "ui = list(map(lambda N:np.random.uniform(a,b,N),N))\n",
    "\n",
    "# Calculamos la aproximación por montecarlo dependiendo de la cantidad de terminos\n",
    "i_montecarlo = list(map(lambda Y:int_montecarlo(lambda x:x**2,a,b,Y),ui))\n",
    "\n",
    "resultados.loc[N,'Montecarlo crudo'] = i_montecarlo\n",
    "resultados.loc[N,\"Error_relativo1%\"] = np.abs(resultados.loc[N,'Montecarlo crudo']-I)*100/I"
   ]
  },
  {
   "cell_type": "code",
   "execution_count": 4,
   "metadata": {},
   "outputs": [
    {
     "data": {
      "text/html": [
       "<div>\n",
       "<style scoped>\n",
       "    .dataframe tbody tr th:only-of-type {\n",
       "        vertical-align: middle;\n",
       "    }\n",
       "\n",
       "    .dataframe tbody tr th {\n",
       "        vertical-align: top;\n",
       "    }\n",
       "\n",
       "    .dataframe thead th {\n",
       "        text-align: right;\n",
       "    }\n",
       "</style>\n",
       "<table border=\"1\" class=\"dataframe\">\n",
       "  <thead>\n",
       "    <tr style=\"text-align: right;\">\n",
       "      <th></th>\n",
       "      <th>Montecarlo crudo</th>\n",
       "      <th>Error_relativo1%</th>\n",
       "      <th>Muestreo estratificado</th>\n",
       "      <th>Error_relativo2%</th>\n",
       "    </tr>\n",
       "    <tr>\n",
       "      <th>Cantidad_terminos</th>\n",
       "      <th></th>\n",
       "      <th></th>\n",
       "      <th></th>\n",
       "      <th></th>\n",
       "    </tr>\n",
       "  </thead>\n",
       "  <tbody>\n",
       "    <tr>\n",
       "      <th>10</th>\n",
       "      <td>0.366726</td>\n",
       "      <td>10.017865</td>\n",
       "      <td>0.335377</td>\n",
       "      <td>6.132284e-01</td>\n",
       "    </tr>\n",
       "    <tr>\n",
       "      <th>100</th>\n",
       "      <td>0.346846</td>\n",
       "      <td>4.053721</td>\n",
       "      <td>0.333155</td>\n",
       "      <td>5.341661e-02</td>\n",
       "    </tr>\n",
       "    <tr>\n",
       "      <th>1000</th>\n",
       "      <td>0.325034</td>\n",
       "      <td>2.489843</td>\n",
       "      <td>0.333333</td>\n",
       "      <td>1.505077e-04</td>\n",
       "    </tr>\n",
       "    <tr>\n",
       "      <th>10000</th>\n",
       "      <td>0.337779</td>\n",
       "      <td>1.333644</td>\n",
       "      <td>0.333333</td>\n",
       "      <td>2.199601e-06</td>\n",
       "    </tr>\n",
       "    <tr>\n",
       "      <th>100000</th>\n",
       "      <td>0.334576</td>\n",
       "      <td>0.372919</td>\n",
       "      <td>0.333333</td>\n",
       "      <td>2.710233e-06</td>\n",
       "    </tr>\n",
       "    <tr>\n",
       "      <th>1000000</th>\n",
       "      <td>0.333583</td>\n",
       "      <td>0.075019</td>\n",
       "      <td>0.333333</td>\n",
       "      <td>5.354978e-08</td>\n",
       "    </tr>\n",
       "    <tr>\n",
       "      <th>10000000</th>\n",
       "      <td>0.333293</td>\n",
       "      <td>0.011964</td>\n",
       "      <td>0.333333</td>\n",
       "      <td>1.624434e-09</td>\n",
       "    </tr>\n",
       "  </tbody>\n",
       "</table>\n",
       "</div>"
      ],
      "text/plain": [
       "                   Montecarlo crudo  Error_relativo1%  Muestreo estratificado  \\\n",
       "Cantidad_terminos                                                               \n",
       "10                         0.366726         10.017865                0.335377   \n",
       "100                        0.346846          4.053721                0.333155   \n",
       "1000                       0.325034          2.489843                0.333333   \n",
       "10000                      0.337779          1.333644                0.333333   \n",
       "100000                     0.334576          0.372919                0.333333   \n",
       "1000000                    0.333583          0.075019                0.333333   \n",
       "10000000                   0.333293          0.011964                0.333333   \n",
       "\n",
       "                   Error_relativo2%  \n",
       "Cantidad_terminos                    \n",
       "10                     6.132284e-01  \n",
       "100                    5.341661e-02  \n",
       "1000                   1.505077e-04  \n",
       "10000                  2.199601e-06  \n",
       "100000                 2.710233e-06  \n",
       "1000000                5.354978e-08  \n",
       "10000000               1.624434e-09  "
      ]
     },
     "execution_count": 4,
     "metadata": {},
     "output_type": "execute_result"
    }
   ],
   "source": [
    "# MUESTREO ESTRATIFICADO\n",
    "# Función para hacer N estratos\n",
    "def muestreo_estratificado(N: 'cantidad de estratos'):\n",
    "    B = N\n",
    "    U = np.random.rand(N)\n",
    "    i = np.arange(0, B)\n",
    "    return (U + i) / B\n",
    "\n",
    "m_estra = [muestreo_estratificado(i) for i in N]\n",
    "i_muestreo = list(map(lambda Y: int_montecarlo(lambda x:x**2, a,b,Y),m_estra))\n",
    "\n",
    "resultados.loc[N,'Muestreo estratificado'] = i_muestreo\n",
    "resultados.loc[N,\"Error_relativo2%\"] = np.abs(resultados.loc[N,'Muestreo estratificado']-I)*100/I\n",
    "resultados"
   ]
  },
  {
   "cell_type": "code",
   "execution_count": null,
   "metadata": {},
   "outputs": [],
   "source": []
  },
  {
   "cell_type": "code",
   "execution_count": null,
   "metadata": {},
   "outputs": [],
   "source": []
  }
 ],
 "metadata": {
  "kernelspec": {
   "display_name": "Python 3",
   "language": "python",
   "name": "python3"
  },
  "language_info": {
   "codemirror_mode": {
    "name": "ipython",
    "version": 3
   },
   "file_extension": ".py",
   "mimetype": "text/x-python",
   "name": "python",
   "nbconvert_exporter": "python",
   "pygments_lexer": "ipython3",
   "version": "3.8.5"
  }
 },
 "nbformat": 4,
 "nbformat_minor": 4
}
